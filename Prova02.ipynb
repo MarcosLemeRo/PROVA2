{
 "cells": [
  {
   "cell_type": "code",
   "execution_count": 4,
   "id": "92794dd1-3176-4611-a2f4-e14452b6a4dd",
   "metadata": {},
   "outputs": [],
   "source": [
    "# Lista de consumo diário de energia em kWh\n",
    "consumos = [50, 45, 55, 60, 48, 52, 47, 49, 53, 51, 50, 46, 54, 61, 49, 53, 48, 50, 52, 47, 56, 50, 55, 60, 48, 52, 47, 49, 53, 51]\n"
   ]
  },
  {
   "cell_type": "code",
   "execution_count": 5,
   "id": "b62394ce-4956-4ff7-b36a-7895a0cb6535",
   "metadata": {},
   "outputs": [],
   "source": [
    "# Função que calcula a média de consumo diário de energia\n",
    "def consumo(lista):\n",
    "    return sum(lista) / len(lista)"
   ]
  },
  {
   "cell_type": "code",
   "execution_count": 6,
   "id": "5555c348-e23c-4e92-83ce-4343b00e28fc",
   "metadata": {},
   "outputs": [
    {
     "name": "stdout",
     "output_type": "stream",
     "text": [
      "O consumo diário médio foi: 51.36666666666667\n"
     ]
    }
   ],
   "source": [
    "# Exibir o consumo diário médio\n",
    "print(f\"O consumo diário médio foi: {consumo(consumos)}\")\n"
   ]
  }
 ],
 "metadata": {
  "kernelspec": {
   "display_name": "Python 3 (ipykernel)",
   "language": "python",
   "name": "python3"
  },
  "language_info": {
   "codemirror_mode": {
    "name": "ipython",
    "version": 3
   },
   "file_extension": ".py",
   "mimetype": "text/x-python",
   "name": "python",
   "nbconvert_exporter": "python",
   "pygments_lexer": "ipython3",
   "version": "3.12.4"
  }
 },
 "nbformat": 4,
 "nbformat_minor": 5
}
